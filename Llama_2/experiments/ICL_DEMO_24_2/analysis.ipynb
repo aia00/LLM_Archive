{
 "cells": [
  {
   "cell_type": "code",
   "execution_count": 1,
   "id": "2d4cfdf3-e66e-4404-ac2d-bc6575f89068",
   "metadata": {},
   "outputs": [],
   "source": [
    "import torch\n",
    "import pandas as pd\n",
    "import numpy as np"
   ]
  },
  {
   "cell_type": "code",
   "execution_count": 2,
   "id": "c30bd75c-68a0-482f-ae5a-3a3a380a4b42",
   "metadata": {},
   "outputs": [],
   "source": [
    "loaded_grography = torch.load('type_tensor/mlp_31_geography.pt')\n",
    "loaded_history = torch.load('type_tensor/mlp_31_history.pt')\n",
    "loaded_literature = torch.load('type_tensor/mlp_31_literature.pt')\n",
    "loaded_music = torch.load('type_tensor/mlp_31_music.pt')\n",
    "loaded_science = torch.load('type_tensor/mlp_31_science.pt')\n",
    "loaded_sport = torch.load('type_tensor/mlp_31_sport.pt')"
   ]
  },
  {
   "cell_type": "code",
   "execution_count": 3,
   "id": "920c7c9f-03ec-4363-af7a-1d98ad192135",
   "metadata": {},
   "outputs": [],
   "source": [
    "loaded_grography = loaded_grography[:, -1, :]\n",
    "loaded_literature = loaded_literature[:, -1, :]\n",
    "loaded_history = loaded_history[:, -1, :]\n",
    "loaded_music = loaded_music[:, -1, :]\n",
    "loaded_science = loaded_science[:, -1, :]\n",
    "loaded_sport = loaded_sport[:, -1, :]"
   ]
  },
  {
   "cell_type": "code",
   "execution_count": 4,
   "id": "f422c342-93c7-4665-9f0f-7b9ef5615203",
   "metadata": {},
   "outputs": [
    {
     "data": {
      "text/plain": [
       "torch.Size([30, 4096])"
      ]
     },
     "execution_count": 4,
     "metadata": {},
     "output_type": "execute_result"
    }
   ],
   "source": [
    "loaded_sport.shape"
   ]
  },
  {
   "cell_type": "code",
   "execution_count": 5,
   "id": "8d8a3806-513a-421b-8980-21d093184bc5",
   "metadata": {},
   "outputs": [],
   "source": [
    "data_group = {\"geography\":loaded_grography,\n",
    "              \"literature\":loaded_literature, \n",
    "              \"history\":loaded_history, \n",
    "              \"music\":loaded_music, \n",
    "              \"science\":loaded_science, \n",
    "              \"sport\":loaded_sport}"
   ]
  },
  {
   "cell_type": "code",
   "execution_count": 6,
   "id": "f2525fff-f444-4586-a438-d92301dffe0f",
   "metadata": {},
   "outputs": [],
   "source": [
    "def data_cal(loaded_tensor):\n",
    "    mean_tensor = torch.mean(loaded_tensor, dim=0)\n",
    "    variance_tensor = torch.var(loaded_tensor, dim=0)\n",
    "    return {\"mean_tensor\": mean_tensor, \"variance_tensor\":variance_tensor}"
   ]
  },
  {
   "cell_type": "code",
   "execution_count": 7,
   "id": "887f7a1c-bda6-48b0-9e04-7e663d6feaa2",
   "metadata": {},
   "outputs": [],
   "source": [
    "data_mean_var = {}\n",
    "for key, value in data_group.items(): \n",
    "    data_mean_var[key] = data_cal(value)"
   ]
  },
  {
   "cell_type": "code",
   "execution_count": 37,
   "id": "56e7234d-d446-40cc-98e0-c4829463dab2",
   "metadata": {},
   "outputs": [
    {
     "name": "stdout",
     "output_type": "stream",
     "text": [
      "Number of entries that has a low variance:\n",
      "  geography: 449\n",
      "  literature: 259\n",
      "  history: 168\n",
      "  music: 33\n",
      "  science: 96\n",
      "  sport: 215\n"
     ]
    }
   ],
   "source": [
    "print(\"Number of entries that has a low variance:\")\n",
    "for key in data_mean_var.keys():\n",
    "    print('  '+key, end=': ')\n",
    "    threshold = 0.004\n",
    "    less_than_threshold = data_mean_var[key][\"variance_tensor\"] <= threshold\n",
    "    count = less_than_threshold.sum().item()  # use .item() to get the number as a standard Python number\n",
    "    data_mean_var[key][\"low_var_count\"] = count\n",
    "    print(count)"
   ]
  },
  {
   "cell_type": "code",
   "execution_count": 52,
   "id": "008eea33-a015-4178-8a18-591a29752316",
   "metadata": {},
   "outputs": [
    {
     "data": {
      "text/plain": [
       "{'geography': [1696, 1411, 2885, 3240, 3883, 2959, 595, 1780, 3381, 182, 3998],\n",
       " 'literature': [1897, 2348],\n",
       " 'history': [1133],\n",
       " 'music': [],\n",
       " 'science': [1660],\n",
       " 'sport': [2724, 3366, 3852, 3410, 2429, 511]}"
      ]
     },
     "execution_count": 52,
     "metadata": {},
     "output_type": "execute_result"
    }
   ],
   "source": [
    "result_indices = {}\n",
    "\n",
    "var_threshold = 0.004\n",
    "mean_threshold = 0.08\n",
    "\n",
    "# Iterate over each key-value pair\n",
    "for key1, value1 in data_mean_var.items():\n",
    "    \n",
    "    cur_mean_tensor = value1['mean_tensor']\n",
    "    cur_var_tensor = value1['variance_tensor']\n",
    "\n",
    "    # Find where the value of the second tensor <=var_threshold\n",
    "    indices1 = torch.nonzero(cur_var_tensor <= var_threshold).flatten()\n",
    "\n",
    "    # An empty set to store the indices\n",
    "    indices_set = set(indices1.tolist())\n",
    "\n",
    "    if not indices_set:\n",
    "        continue\n",
    "\n",
    "    # Iterate over each of the other objects\n",
    "    for key2, value2 in data_mean_var.items():\n",
    "        if key1 != key2:  # Skip the current object\n",
    "            comp_mean_tensor = value2['mean_tensor']\n",
    "\n",
    "            # Subtract the values of corresponding entries\n",
    "            diff = torch.abs(cur_mean_tensor - comp_mean_tensor)\n",
    "\n",
    "            # Get indices where the absolute value of the difference >= mean_threshold\n",
    "            indices2 = torch.nonzero(diff >= mean_threshold).flatten()\n",
    "\n",
    "            # Get the intersection of the indices\n",
    "            indices_set.intersection_update(set(indices2.tolist()))\n",
    "\n",
    "    # Store the indices that hold the criteria against every other object\n",
    "    result_indices[key1] = list(indices_set)\n",
    "\n",
    "result_indices"
   ]
  },
  {
   "cell_type": "code",
   "execution_count": 50,
   "id": "2f6d307e-a232-401d-9b8f-1a74061c1502",
   "metadata": {},
   "outputs": [
    {
     "name": "stdout",
     "output_type": "stream",
     "text": [
      "0.06324555320336758\n"
     ]
    }
   ],
   "source": [
    "import math\n",
    "print(math.sqrt(0.004))"
   ]
  }
 ],
 "metadata": {
  "kernelspec": {
   "display_name": "Python 3 (ipykernel)",
   "language": "python",
   "name": "python3"
  },
  "language_info": {
   "codemirror_mode": {
    "name": "ipython",
    "version": 3
   },
   "file_extension": ".py",
   "mimetype": "text/x-python",
   "name": "python",
   "nbconvert_exporter": "python",
   "pygments_lexer": "ipython3",
   "version": "3.9.7"
  }
 },
 "nbformat": 4,
 "nbformat_minor": 5
}
