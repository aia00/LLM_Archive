{
 "cells": [
  {
   "cell_type": "code",
   "execution_count": 2,
   "id": "2d4cfdf3-e66e-4404-ac2d-bc6575f89068",
   "metadata": {},
   "outputs": [],
   "source": [
    "import torch\n",
    "import pandas as pd\n",
    "import numpy as np"
   ]
  },
  {
   "cell_type": "code",
   "execution_count": 7,
   "id": "c30bd75c-68a0-482f-ae5a-3a3a380a4b42",
   "metadata": {},
   "outputs": [],
   "source": [
    "loaded_grography = torch.load('type_tensor/mlp_31_geography.pt')\n",
    "loaded_history = torch.load('type_tensor/mlp_31_history.pt')\n",
    "loaded_literature = torch.load('type_tensor/mlp_31_literature.pt')\n",
    "loaded_music = torch.load('type_tensor/mlp_31_music.pt')\n",
    "loaded_science = torch.load('type_tensor/mlp_31_science.pt')\n",
    "loaded_sport = torch.load('type_tensor/mlp_31_sport.pt')"
   ]
  },
  {
   "cell_type": "code",
   "execution_count": 8,
   "id": "920c7c9f-03ec-4363-af7a-1d98ad192135",
   "metadata": {},
   "outputs": [],
   "source": [
    "loaded_grography = loaded_grography[:, -1, :]\n",
    "loaded_literature = loaded_literature[:, -1, :]\n",
    "loaded_history = loaded_history[:, -1, :]\n",
    "loaded_music = loaded_music[:, -1, :]\n",
    "loaded_science = loaded_science[:, -1, :]\n",
    "loaded_sport = loaded_sport[:, -1, :]"
   ]
  },
  {
   "cell_type": "code",
   "execution_count": 9,
   "id": "f422c342-93c7-4665-9f0f-7b9ef5615203",
   "metadata": {},
   "outputs": [
    {
     "data": {
      "text/plain": [
       "torch.Size([30, 4096])"
      ]
     },
     "execution_count": 9,
     "metadata": {},
     "output_type": "execute_result"
    }
   ],
   "source": [
    "loaded_sport.shape"
   ]
  },
  {
   "cell_type": "code",
   "execution_count": 31,
   "id": "8d8a3806-513a-421b-8980-21d093184bc5",
   "metadata": {},
   "outputs": [],
   "source": [
    "data_group = {\"geography\":loaded_grography,\n",
    "              \"literature\":loaded_literature, \n",
    "              \"history\":loaded_history, \n",
    "              \"music\":loaded_music, \n",
    "              \"science\":loaded_science, \n",
    "              \"sport\":loaded_sport}"
   ]
  },
  {
   "cell_type": "code",
   "execution_count": 51,
   "id": "f2525fff-f444-4586-a438-d92301dffe0f",
   "metadata": {},
   "outputs": [],
   "source": [
    "def data_cal(loaded_tensor):\n",
    "    mean_tensor = torch.mean(loaded_tensor, dim=0)\n",
    "    variance_tensor = torch.var(loaded_tensor, dim=0)\n",
    "    return {\"mean_tensor\": mean_tensor, \"variance_tensor\":variance_tensor}"
   ]
  },
  {
   "cell_type": "code",
   "execution_count": 52,
   "id": "887f7a1c-bda6-48b0-9e04-7e663d6feaa2",
   "metadata": {},
   "outputs": [],
   "source": [
    "data_mean_var = {}\n",
    "for key, value in data_group.items(): \n",
    "    data_mean_var[key] = data_cal(value)"
   ]
  },
  {
   "cell_type": "code",
   "execution_count": 67,
   "id": "56e7234d-d446-40cc-98e0-c4829463dab2",
   "metadata": {},
   "outputs": [
    {
     "name": "stdout",
     "output_type": "stream",
     "text": [
      "Number of entries that has a low variance:\n",
      "  geography: 449\n",
      "  literature: 259\n",
      "  history: 168\n",
      "  music: 33\n",
      "  science: 96\n",
      "  sport: 215\n"
     ]
    }
   ],
   "source": [
    "print(\"Number of entries that has a low variance:\")\n",
    "for key in data_mean_var.keys():\n",
    "    print('  '+key, end=': ')\n",
    "    threshold = 0.004\n",
    "    less_than_threshold = data_mean_var[key][\"variance_tensor\"] <= threshold\n",
    "    count = less_than_threshold.sum().item()  # use .item() to get the number as a standard Python number\n",
    "    print(count)"
   ]
  },
  {
   "cell_type": "code",
   "execution_count": 47,
   "id": "008eea33-a015-4178-8a18-591a29752316",
   "metadata": {},
   "outputs": [
    {
     "name": "stdout",
     "output_type": "stream",
     "text": [
      "tensor([0.0096, 0.0082, 0.0519,  ..., 0.0261, 0.0089, 0.0436], device='cuda:0',\n",
      "       dtype=torch.float16)\n",
      "tensor([0.0086, 0.0215, 0.0776,  ..., 0.0851, 0.0180, 0.0193], device='cuda:0',\n",
      "       dtype=torch.float16)\n",
      "tensor([0.0309, 0.0621, 0.0967,  ..., 0.0348, 0.0096, 0.0261], device='cuda:0',\n",
      "       dtype=torch.float16)\n",
      "tensor([0.0229, 0.0046, 0.1166,  ..., 0.2026, 0.0204, 0.0189], device='cuda:0',\n",
      "       dtype=torch.float16)\n",
      "tensor([0.0216, 0.0140, 0.0116,  ..., 0.0895, 0.0983, 0.0600], device='cuda:0',\n",
      "       dtype=torch.float16)\n",
      "tensor([0.0149, 0.0151, 0.0130,  ..., 0.1307, 0.0109, 0.0467], device='cuda:0',\n",
      "       dtype=torch.float16)\n"
     ]
    }
   ],
   "source": []
  }
 ],
 "metadata": {
  "kernelspec": {
   "display_name": "Python 3 (ipykernel)",
   "language": "python",
   "name": "python3"
  },
  "language_info": {
   "codemirror_mode": {
    "name": "ipython",
    "version": 3
   },
   "file_extension": ".py",
   "mimetype": "text/x-python",
   "name": "python",
   "nbconvert_exporter": "python",
   "pygments_lexer": "ipython3",
   "version": "3.9.7"
  }
 },
 "nbformat": 4,
 "nbformat_minor": 5
}
