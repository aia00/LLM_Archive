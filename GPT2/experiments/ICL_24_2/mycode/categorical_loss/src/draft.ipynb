{
 "cells": [
  {
   "cell_type": "code",
   "execution_count": 1,
   "metadata": {},
   "outputs": [],
   "source": [
    "import torch"
   ]
  },
  {
   "cell_type": "code",
   "execution_count": 20,
   "metadata": {},
   "outputs": [],
   "source": [
    "def _combine(xs_b, ys_b):\n",
    "        \"\"\"Interleaves the x's and the y's into a single sequence.\"\"\"\n",
    "        bsize, points, dim = xs_b.shape\n",
    "        ys_b_wide = torch.cat(\n",
    "            (\n",
    "                ys_b.view(bsize, points, 1),\n",
    "                torch.zeros(bsize, points, dim - 1, device=ys_b.device),\n",
    "            ),\n",
    "            axis=2,\n",
    "        )\n",
    "        zs = torch.stack((xs_b, ys_b_wide), dim=2)\n",
    "        zs = zs.view(bsize, 2 * points, dim)\n",
    "        return zs"
   ]
  },
  {
   "cell_type": "code",
   "execution_count": 21,
   "metadata": {},
   "outputs": [
    {
     "name": "stdout",
     "output_type": "stream",
     "text": [
      "tensor([[[ 1.,  2.,  3.],\n",
      "         [ 7.,  0.,  0.],\n",
      "         [10., 11., 12.],\n",
      "         [ 8.,  0.,  0.]]])\n"
     ]
    }
   ],
   "source": [
    "x = torch.tensor([[[1,2,3], [10,11,12]]])\n",
    "y = torch.tensor([[7,8]])\n",
    "print(_combine(x,y))"
   ]
  },
  {
   "cell_type": "code",
   "execution_count": 2,
   "metadata": {},
   "outputs": [
    {
     "data": {
      "text/plain": [
       "tensor([[-3.2249,  1.0662,  2.5475,  4.5052,  4.1052, -7.2817, -1.6772,  0.2272,\n",
       "          0.1621, -2.7903, -2.2233,  1.4837,  9.6558,  4.4323, -1.7924,  2.7732,\n",
       "          4.8481, -0.7044,  2.9636, -7.9988],\n",
       "        [ 4.8723, -1.1972, -2.5540,  1.9891,  1.2408, -1.1358,  2.8412, -0.8591,\n",
       "          0.0524, -1.5446,  1.0500, -0.0445,  0.6956,  0.4533, -2.1465, -0.6740,\n",
       "          2.2280,  0.8928,  0.0525, -0.8362]])"
      ]
     },
     "execution_count": 2,
     "metadata": {},
     "output_type": "execute_result"
    }
   ],
   "source": [
    "b_size = 2\n",
    "n_dims = 10\n",
    "n_points = 20\n",
    "scale = 1\n",
    "xs_b = torch.randn(b_size, n_points, n_dims)\n",
    "w_b = torch.randn(b_size, n_dims, 1)\n",
    "ys_b = scale * (xs_b @ w_b)[:, :, 0]\n",
    "# print(xs_b)\n",
    "# print(w_b)\n",
    "ys_b"
   ]
  },
  {
   "cell_type": "code",
   "execution_count": 3,
   "metadata": {},
   "outputs": [
    {
     "data": {
      "text/plain": [
       "torch.Size([2, 20])"
      ]
     },
     "execution_count": 3,
     "metadata": {},
     "output_type": "execute_result"
    }
   ],
   "source": [
    "ys_b.shape"
   ]
  },
  {
   "cell_type": "code",
   "execution_count": 9,
   "metadata": {},
   "outputs": [
    {
     "data": {
      "text/plain": [
       "torch.Size([2, 40, 10])"
      ]
     },
     "execution_count": 9,
     "metadata": {},
     "output_type": "execute_result"
    }
   ],
   "source": [
    "z_b = _combine(xs_b, ys_b)\n",
    "z_b.shape"
   ]
  },
  {
   "cell_type": "code",
   "execution_count": null,
   "metadata": {},
   "outputs": [],
   "source": [
    "xs_b"
   ]
  },
  {
   "cell_type": "code",
   "execution_count": 13,
   "metadata": {},
   "outputs": [
    {
     "data": {
      "text/plain": [
       "tensor([4.2928, 0.0000, 0.0000, 0.0000, 0.0000, 0.0000, 0.0000, 0.0000, 0.0000,\n",
       "        0.0000])"
      ]
     },
     "execution_count": 13,
     "metadata": {},
     "output_type": "execute_result"
    }
   ],
   "source": [
    "z_b[0][1]"
   ]
  },
  {
   "cell_type": "code",
   "execution_count": 24,
   "metadata": {},
   "outputs": [],
   "source": [
    "def _combine(xs_b, ys_b, cat_b):  # Added argument for category\n",
    "    \"\"\"Interleaves the x's, y's and category into a single sequence.\"\"\"\n",
    "    bsize, points, dim = xs_b.shape\n",
    "    ys_b_wide = torch.cat(\n",
    "        (\n",
    "            ys_b.view(bsize, points, 1),\n",
    "            torch.zeros(bsize, points, dim , device=ys_b.device),\n",
    "        ),\n",
    "        axis=2,\n",
    "    )\n",
    "    # Add 'cat' to the 'xs_b' tensor as the first dimension\n",
    "    xs_b_cat = torch.cat([cat_b, xs_b], dim=-1)  # cat_b and xs_b are now of shape (batch_size, num_points, num_features+1)\n",
    "    # ys_b stays zeros at the end because it does not have a 'cat'\n",
    "    zs = torch.stack((xs_b_cat, ys_b_wide), dim=2)\n",
    "    zs = zs.view(bsize, 2 * points, dim + 1)  # dim increased by 1\n",
    "    return zs"
   ]
  },
  {
   "cell_type": "code",
   "execution_count": 9,
   "metadata": {},
   "outputs": [
    {
     "data": {
      "text/plain": [
       "tensor([[ 2.3142,  1.8115,  1.7231,  6.1020, -0.2173,  0.7389,  3.2170, -3.8504,\n",
       "         -3.7699,  0.5092,  4.1580, -0.0885, -1.7097, -1.1708,  2.5282,  0.4906,\n",
       "          7.7920,  4.2260, -1.2555,  2.5978],\n",
       "        [-3.5541, -1.7211,  2.9887, -2.6853,  0.1160,  0.0864,  0.5158,  0.4945,\n",
       "          3.3078,  1.8155, -0.8824, -2.5839,  2.9885, -1.8227, -0.7254,  1.2981,\n",
       "          2.2626, -0.1825,  1.8890, -1.4638]])"
      ]
     },
     "execution_count": 9,
     "metadata": {},
     "output_type": "execute_result"
    }
   ],
   "source": [
    "b_size = 2\n",
    "n_dims = 10\n",
    "n_points = 20\n",
    "scale = 1\n",
    "xs_b = torch.randn(b_size, n_points, n_dims)\n",
    "w_b = torch.randn(b_size, n_dims, 1)\n",
    "ys_b = scale * (xs_b @ w_b)[:, :, 0]\n",
    "# print(xs_b)\n",
    "# print(w_b)\n",
    "ys_b"
   ]
  },
  {
   "cell_type": "code",
   "execution_count": 25,
   "metadata": {},
   "outputs": [
    {
     "data": {
      "text/plain": [
       "torch.Size([2, 40, 11])"
      ]
     },
     "execution_count": 25,
     "metadata": {},
     "output_type": "execute_result"
    }
   ],
   "source": [
    "cat_b = torch.full(xs_b.shape[:-1] + (1,), float(3))\n",
    "z_b = _combine(xs_b, ys_b, cat_b)\n",
    "z_b.shape"
   ]
  },
  {
   "cell_type": "code",
   "execution_count": 26,
   "metadata": {},
   "outputs": [
    {
     "data": {
      "text/plain": [
       "tensor([ 3.0000e+00, -1.5289e+00, -2.2036e-01, -2.0727e-04,  1.1929e+00,\n",
       "         9.5127e-01,  1.0182e+00,  1.0993e+00,  1.1125e+00,  1.6158e+00,\n",
       "        -2.1588e-01])"
      ]
     },
     "execution_count": 26,
     "metadata": {},
     "output_type": "execute_result"
    }
   ],
   "source": [
    "z_b[0][0]"
   ]
  },
  {
   "cell_type": "code",
   "execution_count": 27,
   "metadata": {},
   "outputs": [
    {
     "data": {
      "text/plain": [
       "tensor([2.3142, 0.0000, 0.0000, 0.0000, 0.0000, 0.0000, 0.0000, 0.0000, 0.0000,\n",
       "        0.0000, 0.0000])"
      ]
     },
     "execution_count": 27,
     "metadata": {},
     "output_type": "execute_result"
    }
   ],
   "source": [
    "z_b[0][1]"
   ]
  },
  {
   "cell_type": "code",
   "execution_count": 8,
   "metadata": {},
   "outputs": [
    {
     "data": {
      "text/plain": [
       "tensor([1., 0., 0.])"
      ]
     },
     "execution_count": 8,
     "metadata": {},
     "output_type": "execute_result"
    }
   ],
   "source": [
    "import torch\n",
    "one_hot_tensor = torch.nn.functional.one_hot(torch.tensor(0), num_classes=3).float()\n",
    "one_hot_tensor"
   ]
  },
  {
   "cell_type": "code",
   "execution_count": 12,
   "metadata": {},
   "outputs": [
    {
     "data": {
      "text/plain": [
       "tensor([[[0., 1., 0.]]])"
      ]
     },
     "execution_count": 12,
     "metadata": {},
     "output_type": "execute_result"
    }
   ],
   "source": [
    "one_hot_tensor = torch.nn.functional.one_hot(torch.tensor(1), num_classes=3).float().view(1, 1, 3)\n",
    "one_hot_tensor"
   ]
  },
  {
   "cell_type": "code",
   "execution_count": 15,
   "metadata": {},
   "outputs": [
    {
     "data": {
      "text/plain": [
       "tensor(2.1891)"
      ]
     },
     "execution_count": 15,
     "metadata": {},
     "output_type": "execute_result"
    }
   ],
   "source": [
    "y = torch.randn(b_size, n_points)\n",
    "y1 = torch.randn(b_size, n_points)\n",
    "(y - y1).square().mean()"
   ]
  },
  {
   "cell_type": "code",
   "execution_count": 5,
   "metadata": {},
   "outputs": [
    {
     "name": "stdout",
     "output_type": "stream",
     "text": [
      "-774885900318622589111328125000\n"
     ]
    }
   ],
   "source": [
    "print(5**42 - 75**16)"
   ]
  },
  {
   "cell_type": "code",
   "execution_count": 9,
   "metadata": {},
   "outputs": [
    {
     "name": "stdout",
     "output_type": "stream",
     "text": [
      "6561\n"
     ]
    }
   ],
   "source": [
    "print(9**4)"
   ]
  }
 ],
 "metadata": {
  "kernelspec": {
   "display_name": "ykwang_ICL",
   "language": "python",
   "name": "python3"
  },
  "language_info": {
   "codemirror_mode": {
    "name": "ipython",
    "version": 3
   },
   "file_extension": ".py",
   "mimetype": "text/x-python",
   "name": "python",
   "nbconvert_exporter": "python",
   "pygments_lexer": "ipython3",
   "version": "3.9.18"
  }
 },
 "nbformat": 4,
 "nbformat_minor": 2
}
