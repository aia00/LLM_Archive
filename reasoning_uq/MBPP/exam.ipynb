{
 "cells": [
  {
   "cell_type": "code",
   "execution_count": 2,
   "metadata": {},
   "outputs": [
    {
     "name": "stderr",
     "output_type": "stream",
     "text": [
      "/home/ykwang/.conda/envs/ykwang_llama/lib/python3.10/site-packages/tqdm/auto.py:21: TqdmWarning: IProgress not found. Please update jupyter and ipywidgets. See https://ipywidgets.readthedocs.io/en/stable/user_install.html\n",
      "  from .autonotebook import tqdm as notebook_tqdm\n"
     ]
    }
   ],
   "source": [
    "import re\n",
    "from transformers import AutoTokenizer, AutoModelForCausalLM \n",
    "from datasets import load_dataset\n",
    "import contextlib\n",
    "from io import StringIO\n",
    "import os"
   ]
  },
  {
   "cell_type": "code",
   "execution_count": 3,
   "metadata": {},
   "outputs": [
    {
     "name": "stderr",
     "output_type": "stream",
     "text": [
      "Loading checkpoint shards: 100%|██████████| 2/2 [00:09<00:00,  4.65s/it]\n"
     ]
    }
   ],
   "source": [
    "# Load MBPP dataset\n",
    "mbpp_dataset = load_dataset(\"mbpp\")\n",
    "\n",
    "# Load model and tokenizer\n",
    "model_name = \"deepseek-ai/DeepSeek-R1-Distill-Llama-8B\"\n",
    "tokenizer = AutoTokenizer.from_pretrained(model_name)\n",
    "model = AutoModelForCausalLM.from_pretrained(model_name, device_map=\"auto\")"
   ]
  },
  {
   "cell_type": "code",
   "execution_count": 4,
   "metadata": {},
   "outputs": [],
   "source": [
    "# Construct prompt\n",
    "def build_prompt(problem):\n",
    "    return f\"\"\"\n",
    "Please generate a complete Python function based on the following problem description. Ensure the code passes the provided test cases. Always include the generated code between ```python and ```.\n",
    "\n",
    "Problem Description:\n",
    "{problem['text']}\n",
    "\n",
    "Test Cases:\n",
    "{problem['test_list']}\n",
    "\n",
    "Generated Code:\n",
    "\"\"\""
   ]
  },
  {
   "cell_type": "code",
   "execution_count": 5,
   "metadata": {},
   "outputs": [],
   "source": [
    "def extract_code(generated_text: str) -> str:\n",
    "    pattern = r\"```python\\s*(.*?)\\s*```\"\n",
    "    matches = re.findall(pattern, generated_text, re.DOTALL)\n",
    "    if len(matches) >= 2:\n",
    "        return matches[1]\n",
    "    else:\n",
    "        # Fallback: if no second code block is found, return False or handle appropriately\n",
    "        return False\n"
   ]
  },
  {
   "cell_type": "code",
   "execution_count": 15,
   "metadata": {},
   "outputs": [],
   "source": [
    "# Generate code and extract the code block\n",
    "def generate_code(prompt):\n",
    "    inputs = tokenizer(prompt, return_tensors=\"pt\").to(model.device)\n",
    "    outputs = model.generate(\n",
    "        inputs.input_ids,\n",
    "        max_length=512,\n",
    "        temperature=1,\n",
    "        top_p=0.8,\n",
    "        do_sample=True\n",
    "    )\n",
    "    generated_text = tokenizer.decode(outputs[0], skip_special_tokens=True)\n",
    "    code = extract_code(generated_text)\n",
    "    return code"
   ]
  },
  {
   "cell_type": "code",
   "execution_count": 7,
   "metadata": {},
   "outputs": [],
   "source": [
    "def test_generated_code(code: str, test_cases: list) -> float:\n",
    "    # Use an isolated namespace for each sample\n",
    "    namespace = {}\n",
    "    try:\n",
    "        exec(code, namespace)\n",
    "    except Exception as e:\n",
    "        print(f\"Code execution error: {e}\")\n",
    "        return 0.0\n",
    "\n",
    "    total = len(test_cases)\n",
    "    passed = 0\n",
    "\n",
    "    for test in test_cases:\n",
    "        try:\n",
    "            # Run the test code which contains an assert statement.\n",
    "            # If the assert condition is true, no exception is thrown.\n",
    "            # exec('print(reverse_words(\"python program\"))', namespace)\n",
    "            # exec('print(reverse_words(\"python program\")==\"program python\")', namespace)\n",
    "            exec(test, namespace)\n",
    "            passed += 1\n",
    "        except AssertionError:\n",
    "            # The assert failed, so the test did not pass.\n",
    "            print(f\"Test failed (assertion error): {test}\")\n",
    "        except Exception as e:\n",
    "            # Any other exception that may occur\n",
    "            print(f\"Test failed: {test}, error: {e}\")\n",
    "\n",
    "    return passed / total if total > 0 else 0.0\n"
   ]
  },
  {
   "cell_type": "code",
   "execution_count": 16,
   "metadata": {},
   "outputs": [
    {
     "name": "stderr",
     "output_type": "stream",
     "text": [
      "The attention mask and the pad token id were not set. As a consequence, you may observe unexpected behavior. Please pass your input's `attention_mask` to obtain reliable results.\n",
      "Setting `pad_token_id` to `eos_token_id`:128001 for open-end generation.\n"
     ]
    },
    {
     "name": "stdout",
     "output_type": "stream",
     "text": [
      "Sample 1:\n"
     ]
    },
    {
     "name": "stderr",
     "output_type": "stream",
     "text": [
      "The attention mask and the pad token id were not set. As a consequence, you may observe unexpected behavior. Please pass your input's `attention_mask` to obtain reliable results.\n",
      "Setting `pad_token_id` to `eos_token_id`:128001 for open-end generation.\n"
     ]
    },
    {
     "name": "stdout",
     "output_type": "stream",
     "text": [
      "def cummulative_sum(tuples_list):\n",
      "    total = 0\n",
      "    for tup in tuples_list:\n",
      "        total += sum(tup)\n",
      "    return total\n",
      "Success Ratio: 1.00\n",
      "\n",
      "Sample 2:\n"
     ]
    },
    {
     "name": "stderr",
     "output_type": "stream",
     "text": [
      "The attention mask and the pad token id were not set. As a consequence, you may observe unexpected behavior. Please pass your input's `attention_mask` to obtain reliable results.\n",
      "Setting `pad_token_id` to `eos_token_id`:128001 for open-end generation.\n"
     ]
    },
    {
     "name": "stdout",
     "output_type": "stream",
     "text": [
      "def cummulative_sum(t):\n",
      "    # Initialize a total sum variable\n",
      "    total = 0\n",
      "    # Iterate through each tuple in the tuple list\n",
      "    for t in t:\n",
      "        # For each element in the tuple, add to total\n",
      "        for num in t:\n",
      "            total += num\n",
      "    return total\n",
      "Success Ratio: 1.00\n",
      "\n",
      "Sample 3:\n"
     ]
    },
    {
     "name": "stderr",
     "output_type": "stream",
     "text": [
      "The attention mask and the pad token id were not set. As a consequence, you may observe unexpected behavior. Please pass your input's `attention_mask` to obtain reliable results.\n",
      "Setting `pad_token_id` to `eos_token_id`:128001 for open-end generation.\n"
     ]
    },
    {
     "name": "stdout",
     "output_type": "stream",
     "text": [
      "def cummulative_sum(tuple_list):\n",
      "    total = 0\n",
      "    for item in tuple_list:\n",
      "        total += sum(item)\n",
      "    return total\n",
      "Success Ratio: 1.00\n",
      "\n",
      "Sample 4:\n"
     ]
    },
    {
     "name": "stderr",
     "output_type": "stream",
     "text": [
      "The attention mask and the pad token id were not set. As a consequence, you may observe unexpected behavior. Please pass your input's `attention_mask` to obtain reliable results.\n",
      "Setting `pad_token_id` to `eos_token_id`:128001 for open-end generation.\n"
     ]
    },
    {
     "name": "stdout",
     "output_type": "stream",
     "text": [
      "def cummulative_sum(tuples):\n",
      "    total = 0\n",
      "    for t in tuples:\n",
      "        total += sum(t)\n",
      "    return total\n",
      "Success Ratio: 1.00\n",
      "\n",
      "Sample 5:\n"
     ]
    },
    {
     "name": "stderr",
     "output_type": "stream",
     "text": [
      "The attention mask and the pad token id were not set. As a consequence, you may observe unexpected behavior. Please pass your input's `attention_mask` to obtain reliable results.\n",
      "Setting `pad_token_id` to `eos_token_id`:128001 for open-end generation.\n"
     ]
    },
    {
     "name": "stdout",
     "output_type": "stream",
     "text": [
      "Cannot extract the python code!\n",
      "Sample 6:\n"
     ]
    },
    {
     "name": "stderr",
     "output_type": "stream",
     "text": [
      "The attention mask and the pad token id were not set. As a consequence, you may observe unexpected behavior. Please pass your input's `attention_mask` to obtain reliable results.\n",
      "Setting `pad_token_id` to `eos_token_id`:128001 for open-end generation.\n"
     ]
    },
    {
     "name": "stdout",
     "output_type": "stream",
     "text": [
      "def cummulative_sum(lst):\n",
      "    total = 0\n",
      "    for sub in lst:\n",
      "        total += sum(sub)\n",
      "    return total\n",
      "Success Ratio: 1.00\n",
      "\n",
      "Sample 7:\n"
     ]
    },
    {
     "name": "stderr",
     "output_type": "stream",
     "text": [
      "The attention mask and the pad token id were not set. As a consequence, you may observe unexpected behavior. Please pass your input's `attention_mask` to obtain reliable results.\n",
      "Setting `pad_token_id` to `eos_token_id`:128001 for open-end generation.\n"
     ]
    },
    {
     "name": "stdout",
     "output_type": "stream",
     "text": [
      "def cummulative_sum(t):\n",
      "    total = 0\n",
      "    for sub_tuple in t:\n",
      "        total += sum(sub_tuple)\n",
      "    return total\n",
      "Success Ratio: 1.00\n",
      "\n",
      "Sample 8:\n"
     ]
    },
    {
     "name": "stderr",
     "output_type": "stream",
     "text": [
      "The attention mask and the pad token id were not set. As a consequence, you may observe unexpected behavior. Please pass your input's `attention_mask` to obtain reliable results.\n",
      "Setting `pad_token_id` to `eos_token_id`:128001 for open-end generation.\n"
     ]
    },
    {
     "name": "stdout",
     "output_type": "stream",
     "text": [
      "def cummulative_sum(tuple_list):\n",
      "    total = 0\n",
      "    for t in tuple_list:\n",
      "        for num in t:\n",
      "            total += num\n",
      "    return total\n",
      "Success Ratio: 1.00\n",
      "\n",
      "Sample 9:\n"
     ]
    },
    {
     "name": "stderr",
     "output_type": "stream",
     "text": [
      "The attention mask and the pad token id were not set. As a consequence, you may observe unexpected behavior. Please pass your input's `attention_mask` to obtain reliable results.\n",
      "Setting `pad_token_id` to `eos_token_id`:128001 for open-end generation.\n"
     ]
    },
    {
     "name": "stdout",
     "output_type": "stream",
     "text": [
      "def cummulative_sum(tuples):\n",
      "    total = 0\n",
      "    for t in tuples:\n",
      "        total += sum(t)\n",
      "    return total\n",
      "Success Ratio: 1.00\n",
      "\n",
      "Sample 10:\n",
      "def cummulative_sum(tuple_list):\n",
      "    total = 0\n",
      "    for t in tuple_list:\n",
      "        total += sum(t)\n",
      "    return total\n",
      "Success Ratio: 1.00\n",
      "\n",
      "All Sample Results:\n",
      "Sample 1: Success Ratio: 1.00\n",
      "Generated Code:\n",
      "def cummulative_sum(tuples_list):\n",
      "    total = 0\n",
      "    for tup in tuples_list:\n",
      "        total += sum(tup)\n",
      "    return total\n",
      "----------------------------------------\n",
      "Sample 2: Success Ratio: 1.00\n",
      "Generated Code:\n",
      "def cummulative_sum(t):\n",
      "    # Initialize a total sum variable\n",
      "    total = 0\n",
      "    # Iterate through each tuple in the tuple list\n",
      "    for t in t:\n",
      "        # For each element in the tuple, add to total\n",
      "        for num in t:\n",
      "            total += num\n",
      "    return total\n",
      "----------------------------------------\n",
      "Sample 3: Success Ratio: 1.00\n",
      "Generated Code:\n",
      "def cummulative_sum(tuple_list):\n",
      "    total = 0\n",
      "    for item in tuple_list:\n",
      "        total += sum(item)\n",
      "    return total\n",
      "----------------------------------------\n",
      "Sample 4: Success Ratio: 1.00\n",
      "Generated Code:\n",
      "def cummulative_sum(tuples):\n",
      "    total = 0\n",
      "    for t in tuples:\n",
      "        total += sum(t)\n",
      "    return total\n",
      "----------------------------------------\n",
      "Sample 5: Success Ratio: -1.00\n",
      "Generated Code:\n",
      "False\n",
      "----------------------------------------\n",
      "Sample 6: Success Ratio: 1.00\n",
      "Generated Code:\n",
      "def cummulative_sum(lst):\n",
      "    total = 0\n",
      "    for sub in lst:\n",
      "        total += sum(sub)\n",
      "    return total\n",
      "----------------------------------------\n",
      "Sample 7: Success Ratio: 1.00\n",
      "Generated Code:\n",
      "def cummulative_sum(t):\n",
      "    total = 0\n",
      "    for sub_tuple in t:\n",
      "        total += sum(sub_tuple)\n",
      "    return total\n",
      "----------------------------------------\n",
      "Sample 8: Success Ratio: 1.00\n",
      "Generated Code:\n",
      "def cummulative_sum(tuple_list):\n",
      "    total = 0\n",
      "    for t in tuple_list:\n",
      "        for num in t:\n",
      "            total += num\n",
      "    return total\n",
      "----------------------------------------\n",
      "Sample 9: Success Ratio: 1.00\n",
      "Generated Code:\n",
      "def cummulative_sum(tuples):\n",
      "    total = 0\n",
      "    for t in tuples:\n",
      "        total += sum(t)\n",
      "    return total\n",
      "----------------------------------------\n",
      "Sample 10: Success Ratio: 1.00\n",
      "Generated Code:\n",
      "def cummulative_sum(tuple_list):\n",
      "    total = 0\n",
      "    for t in tuple_list:\n",
      "        total += sum(t)\n",
      "    return total\n",
      "----------------------------------------\n"
     ]
    }
   ],
   "source": [
    "# Sample 10 times for one problem and record results\n",
    "problem = mbpp_dataset[\"train\"][13]\n",
    "prompt = build_prompt(problem)\n",
    "test_cases = problem[\"test_list\"]\n",
    "\n",
    "results = []\n",
    "\n",
    "for i in range(10):\n",
    "    print(f\"Sample {i+1}:\")\n",
    "    generated_code = generate_code(prompt)\n",
    "    if generated_code == False:\n",
    "        print(\"Cannot extract the python code!\")\n",
    "        results.append({\"code\": generated_code, \"success_ratio\": -1})\n",
    "        continue\n",
    "    print(generated_code)\n",
    "    # os._exit(0)\n",
    "    ratio = test_generated_code(generated_code, test_cases)\n",
    "    results.append({\"code\": generated_code, \"success_ratio\": ratio})\n",
    "    print(f\"Success Ratio: {ratio:.2f}\\n\")\n",
    "\n",
    "print(\"All Sample Results:\")\n",
    "for idx, res in enumerate(results):\n",
    "    print(f\"Sample {idx+1}: Success Ratio: {res['success_ratio']:.2f}\")\n",
    "    print(\"Generated Code:\")\n",
    "    print(res['code'])\n",
    "    print(\"-\" * 40)\n"
   ]
  },
  {
   "cell_type": "code",
   "execution_count": 17,
   "metadata": {},
   "outputs": [
    {
     "name": "stdout",
     "output_type": "stream",
     "text": [
      "[1.0, 1.0, 1.0, 1.0, -1, 1.0, 1.0, 1.0, 1.0, 1.0]\n"
     ]
    }
   ],
   "source": [
    "s_values = [result[\"success_ratio\"] for result in results]\n",
    "print(s_values)"
   ]
  }
 ],
 "metadata": {
  "kernelspec": {
   "display_name": "ykwang_llama",
   "language": "python",
   "name": "python3"
  },
  "language_info": {
   "codemirror_mode": {
    "name": "ipython",
    "version": 3
   },
   "file_extension": ".py",
   "mimetype": "text/x-python",
   "name": "python",
   "nbconvert_exporter": "python",
   "pygments_lexer": "ipython3",
   "version": "3.10.0"
  }
 },
 "nbformat": 4,
 "nbformat_minor": 2
}
