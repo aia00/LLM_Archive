{
 "cells": [
  {
   "cell_type": "code",
   "execution_count": 1,
   "metadata": {},
   "outputs": [
    {
     "name": "stderr",
     "output_type": "stream",
     "text": [
      "/home/ykwang/.conda/envs/ykwang_llama/lib/python3.10/site-packages/tqdm/auto.py:21: TqdmWarning: IProgress not found. Please update jupyter and ipywidgets. See https://ipywidgets.readthedocs.io/en/stable/user_install.html\n",
      "  from .autonotebook import tqdm as notebook_tqdm\n"
     ]
    }
   ],
   "source": [
    "import re\n",
    "import os\n",
    "import subprocess\n",
    "import tempfile\n",
    "import json\n",
    "from transformers import AutoTokenizer, AutoModelForCausalLM\n",
    "from datasets import load_dataset"
   ]
  },
  {
   "cell_type": "code",
   "execution_count": 2,
   "metadata": {},
   "outputs": [
    {
     "name": "stderr",
     "output_type": "stream",
     "text": [
      "Loading checkpoint shards: 100%|██████████| 2/2 [00:10<00:00,  5.15s/it]\n"
     ]
    }
   ],
   "source": [
    "# -------------------------------\n",
    "# Load the APPS dataset and filter for introductory problems.\n",
    "apps_dataset = load_dataset(\"codeparrot/apps\")\n",
    "train_dataset = apps_dataset[\"train\"]\n",
    "intro_train_dataset = train_dataset.filter(lambda example: example[\"difficulty\"] == \"introductory\")\n",
    "\n",
    "# -------------------------------\n",
    "# Load the code generation model and tokenizer.\n",
    "code_model_name = \"deepseek-ai/DeepSeek-R1-Distill-Llama-8B\"\n",
    "code_tokenizer = AutoTokenizer.from_pretrained(code_model_name)\n",
    "code_model = AutoModelForCausalLM.from_pretrained(code_model_name, device_map=\"auto\")"
   ]
  },
  {
   "cell_type": "code",
   "execution_count": 3,
   "metadata": {},
   "outputs": [],
   "source": [
    "def substitute_numbers(question):\n",
    "    return re.sub(r'\\d+', lambda x: str(int(x.group()) + 1), question)\n",
    "\n",
    "# -------------------------------\n",
    "# Build a prompt for code generation using a given question.\n",
    "def build_code_prompt(question):\n",
    "    return f\"\"\"\n",
    "Please generate a complete Python script that solves the following problem. Enclose your final code within ```python and ``` markers. Please ensure that your final code includes a main block to read input and print the result. Also, ensure that your entire output does not exceed 1024 tokens.\n",
    "\n",
    "Problem Description:\n",
    "{question}\n",
    "\n",
    "Generated Code:\n",
    "\"\"\""
   ]
  },
  {
   "cell_type": "code",
   "execution_count": 4,
   "metadata": {},
   "outputs": [],
   "source": [
    "# -------------------------------\n",
    "# Extract code from generated text (expects code to be between ```python and ```).\n",
    "def extract_code(generated_text: str) -> str:\n",
    "    pattern = r\"```python\\s*(.*?)\\s*```\"\n",
    "    matches = re.findall(pattern, generated_text, re.DOTALL)\n",
    "    if matches:\n",
    "        return matches[-1].strip()\n",
    "    else:\n",
    "        return None\n",
    "\n",
    "# -------------------------------\n",
    "# Generate code using the code generation model.\n",
    "def generate_code(prompt):\n",
    "    inputs = code_tokenizer(prompt, return_tensors=\"pt\").to(code_model.device)\n",
    "    outputs = code_model.generate(\n",
    "        inputs.input_ids,\n",
    "        max_length=1024,\n",
    "        temperature=0.7,\n",
    "        top_p=0.9,\n",
    "        do_sample=True\n",
    "    )\n",
    "    generated_text = code_tokenizer.decode(outputs[0], skip_special_tokens=True)\n",
    "    return extract_code(generated_text)\n"
   ]
  },
  {
   "cell_type": "code",
   "execution_count": 5,
   "metadata": {},
   "outputs": [],
   "source": [
    "# -------------------------------\n",
    "# Run the generated code and record output.\n",
    "def run_generated_code(code, io_pair):\n",
    "    inputs_list = io_pair.get(\"inputs\", [])\n",
    "    recorded_outputs = []\n",
    "    \n",
    "    for inp in inputs_list:\n",
    "        with tempfile.NamedTemporaryFile(mode=\"w\", suffix=\".py\", delete=False) as tmp:\n",
    "            tmp.write(code)\n",
    "            tmp_filename = tmp.name\n",
    "        try:\n",
    "            result = subprocess.run(\n",
    "                [\"python\", tmp_filename],\n",
    "                input=inp,\n",
    "                text=True,\n",
    "                capture_output=True,\n",
    "                timeout=10\n",
    "            )\n",
    "            recorded_outputs.append({\"input\": inp, \"output\": result.stdout.strip()})\n",
    "        except Exception as e:\n",
    "            recorded_outputs.append({\"input\": inp, \"error\": str(e)})\n",
    "        finally:\n",
    "            os.remove(tmp_filename)\n",
    "    \n",
    "    return recorded_outputs"
   ]
  },
  {
   "cell_type": "code",
   "execution_count": null,
   "metadata": {},
   "outputs": [
    {
     "name": "stdout",
     "output_type": "stream",
     "text": [
      "\n",
      "=== Testing on Original Question ===\n",
      "\n",
      "Please generate a complete Python script that solves the following problem. Enclose your final code within ```python and ``` markers. Please ensure that your final code includes a main block to read input and print the result. Also, ensure that your entire output does not exceed 1024 tokens.\n",
      "\n",
      "Problem Description:\n",
      "You are given an array $a$ consisting of $n$ integers (it is guaranteed that $n$ is even, i.e. divisible by $2$). All $a_i$ does not exceed some integer $k$.\n",
      "\n",
      "Your task is to replace the minimum number of elements (replacement is the following operation: choose some index $i$ from $1$ to $n$ and replace $a_i$ with some integer in range $[1; k]$) to satisfy the following conditions:  after all replacements, all $a_i$ are positive integers not greater than $k$;  for all $i$ from $1$ to $\\frac{n}{2}$ the following equation is true: $a_i + a_{n - i + 1} = x$, where $x$ should be the same for all $\\frac{n}{2}$ pairs of elements. \n",
      "\n",
      "You have to answer $t$ independent test cases.\n",
      "\n",
      "\n",
      "-----Input-----\n",
      "\n",
      "The first line of the input contains one integer $t$ ($1 \\le t \\le 10^4$) — the number of test cases. Then $t$ test cases follow.\n",
      "\n",
      "The first line of the test case contains two integers $n$ and $k$ ($2 \\le n \\le 2 \\cdot 10^5, 1 \\le k \\le 2 \\cdot 10^5$) — the length of $a$ and the maximum possible value of some $a_i$ correspondingly. It is guratanteed that $n$ is even (i.e. divisible by $2$). The second line of the test case contains $n$ integers $a_1, a_2, \\dots, a_n$ ($1 \\le a_i \\le k$), where $a_i$ is the $i$-th element of $a$.\n",
      "\n",
      "It is guaranteed that the sum of $n$ (as well as the sum of $k$) over all test cases does not exceed $2 \\cdot 10^5$ ($\\sum n \\le 2 \\cdot 10^5$, $\\sum k \\le 2 \\cdot 10^5$).\n",
      "\n",
      "\n",
      "-----Output-----\n",
      "\n",
      "For each test case, print the answer — the minimum number of elements you have to replace in $a$ to satisfy the conditions from the problem statement.\n",
      "\n",
      "\n",
      "-----Example-----\n",
      "Input\n",
      "4\n",
      "4 2\n",
      "1 2 1 2\n",
      "4 3\n",
      "1 2 2 1\n",
      "8 7\n",
      "6 1 1 7 6 3 4 6\n",
      "6 6\n",
      "5 2 6 1 3 4\n",
      "\n",
      "Output\n",
      "0\n",
      "1\n",
      "4\n",
      "2\n",
      "\n",
      "Generated Code:\n",
      "\n"
     ]
    },
    {
     "ename": "TypeError",
     "evalue": "_exit() missing required argument 'status' (pos 1)",
     "output_type": "error",
     "traceback": [
      "\u001b[0;31m---------------------------------------------------------------------------\u001b[0m",
      "\u001b[0;31mTypeError\u001b[0m                                 Traceback (most recent call last)",
      "Cell \u001b[0;32mIn[10], line 17\u001b[0m\n\u001b[1;32m     15\u001b[0m original_prompt \u001b[38;5;241m=\u001b[39m build_code_prompt(original_question)\n\u001b[1;32m     16\u001b[0m \u001b[38;5;28mprint\u001b[39m(original_prompt)\n\u001b[0;32m---> 17\u001b[0m \u001b[43mos\u001b[49m\u001b[38;5;241;43m.\u001b[39;49m\u001b[43m_exit\u001b[49m\u001b[43m(\u001b[49m\u001b[43m)\u001b[49m\n\u001b[1;32m     18\u001b[0m original_results \u001b[38;5;241m=\u001b[39m []\n\u001b[1;32m     19\u001b[0m \u001b[38;5;28;01mfor\u001b[39;00m s \u001b[38;5;129;01min\u001b[39;00m \u001b[38;5;28mrange\u001b[39m(NUM_SAMPLES_ORIGINAL):\n",
      "\u001b[0;31mTypeError\u001b[0m: _exit() missing required argument 'status' (pos 1)"
     ]
    }
   ],
   "source": [
    "# -------------------------------\n",
    "# Main procedure:\n",
    "NUM_SAMPLES_ORIGINAL = 10\n",
    "NUM_REPHRASES = 3\n",
    "NUM_SAMPLES_PER_REPHRASE = 10\n",
    "\n",
    "problem = intro_train_dataset[17]\n",
    "io_pair = eval(problem[\"input_output\"])\n",
    "original_question = problem['question']\n",
    "\n",
    "final_results = []\n",
    "\n",
    "# ---- Test on the original question ----\n",
    "print(\"\\n=== Testing on Original Question ===\")\n",
    "original_prompt = build_code_prompt(original_question)\n",
    "print(original_prompt)\n",
    "os._exit()\n",
    "original_results = []\n",
    "for s in range(NUM_SAMPLES_ORIGINAL):\n",
    "    print(f\"\\n--- Original Sample {s+1} ---\")\n",
    "    code = generate_code(original_prompt)\n",
    "    print(\"Generated Code:\\n\", code, \"\\n\")\n",
    "    if code:\n",
    "        recorded_outputs = run_generated_code(code, io_pair)\n",
    "        original_results.append({\"code\": code, \"recorded_outputs\": recorded_outputs})\n",
    "    else:\n",
    "        original_results.append({\"code\": None, \"recorded_outputs\": []})\n",
    "final_results.append(original_results)\n",
    "\n",
    "# ---- Test on rephrased questions ----\n",
    "for r in range(NUM_REPHRASES):\n",
    "    print(f\"\\n=== Rephrase {r+1} ===\")\n",
    "    rephrased_question = substitute_numbers(original_question)\n",
    "    print(\"Rephrased Question:\", rephrased_question)\n",
    "    \n",
    "    code_prompt = build_code_prompt(rephrased_question)\n",
    "    \n",
    "    rephrase_results = []\n",
    "    for s in range(NUM_SAMPLES_PER_REPHRASE):\n",
    "        print(f\"\\n--- Sample {s+1} for Rephrase {r+1} ---\")\n",
    "        code = generate_code(code_prompt)\n",
    "        print(\"Generated Code:\\n\", code, \"\\n\")\n",
    "        if code:\n",
    "            recorded_outputs = run_generated_code(code, io_pair)\n",
    "            rephrase_results.append({\"code\": code, \"recorded_outputs\": recorded_outputs})\n",
    "        else:\n",
    "            rephrase_results.append({\"code\": None, \"recorded_outputs\": []})\n",
    "    final_results.append(rephrase_results)\n",
    "\n",
    "# Save the results.\n",
    "with open(\"final_results.json\", \"w\") as f:\n",
    "    json.dump(final_results, f, indent=4)\n",
    "\n",
    "print(\"\\nResults saved to final_results.json\")"
   ]
  }
 ],
 "metadata": {
  "kernelspec": {
   "display_name": "Python 3",
   "language": "python",
   "name": "python3"
  },
  "language_info": {
   "codemirror_mode": {
    "name": "ipython",
    "version": 3
   },
   "file_extension": ".py",
   "mimetype": "text/x-python",
   "name": "python",
   "nbconvert_exporter": "python",
   "pygments_lexer": "ipython3",
   "version": "3.10.0"
  }
 },
 "nbformat": 4,
 "nbformat_minor": 2
}
