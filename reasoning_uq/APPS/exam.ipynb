{
 "cells": [
  {
   "cell_type": "code",
   "execution_count": 2,
   "metadata": {},
   "outputs": [
    {
     "name": "stderr",
     "output_type": "stream",
     "text": [
      "/home/ykwang/.conda/envs/ykwang_llama/lib/python3.10/site-packages/tqdm/auto.py:21: TqdmWarning: IProgress not found. Please update jupyter and ipywidgets. See https://ipywidgets.readthedocs.io/en/stable/user_install.html\n",
      "  from .autonotebook import tqdm as notebook_tqdm\n"
     ]
    }
   ],
   "source": [
    "import re\n",
    "from transformers import AutoTokenizer, AutoModelForCausalLM\n",
    "from datasets import load_dataset\n",
    "import os\n",
    "import subprocess\n",
    "import tempfile"
   ]
  },
  {
   "cell_type": "code",
   "execution_count": 3,
   "metadata": {},
   "outputs": [
    {
     "name": "stderr",
     "output_type": "stream",
     "text": [
      "Loading checkpoint shards: 100%|██████████| 2/2 [00:09<00:00,  4.76s/it]\n"
     ]
    }
   ],
   "source": [
    "# Load APPS dataset and filter for introductory difficulty\n",
    "apps_dataset = load_dataset(\"codeparrot/apps\")\n",
    "train_dataset = apps_dataset[\"train\"]\n",
    "\n",
    "# Filter introductory problems\n",
    "intro_train_dataset = train_dataset.filter(lambda example: example[\"difficulty\"] == \"introductory\")\n",
    "\n",
    "# Load model and tokenizer\n",
    "model_name = \"deepseek-ai/DeepSeek-R1-Distill-Llama-8B\"\n",
    "tokenizer = AutoTokenizer.from_pretrained(model_name)\n",
    "model = AutoModelForCausalLM.from_pretrained(model_name, device_map=\"auto\")"
   ]
  },
  {
   "cell_type": "code",
   "execution_count": 4,
   "metadata": {},
   "outputs": [],
   "source": [
    "def build_prompt(problem):\n",
    "    return f\"\"\"\n",
    "Please generate a complete Python script that solves the following problem. Enclose your final code within ```python and ``` markers. Also, ensure that your entire output (including this prompt) does not exceed 1024 tokens.\n",
    "\n",
    "Problem Description:\n",
    "{problem['question']}\n",
    "\n",
    "Generated Code:\n",
    "\"\"\""
   ]
  },
  {
   "cell_type": "code",
   "execution_count": null,
   "metadata": {},
   "outputs": [],
   "source": [
    "# Extract code from generated text (code must be enclosed in ```python and ```)\n",
    "def extract_code(generated_text: str) -> str:\n",
    "    pattern = r\"```python\\s*(.*?)\\s*```\"\n",
    "    matches = re.findall(pattern, generated_text, re.DOTALL)\n",
    "    if len(matches) >= 2:\n",
    "        return matches[-1]\n",
    "    else:\n",
    "        # Fallback: if no second code block is found, return False or handle appropriately\n",
    "        return False\n",
    "\n",
    "\n",
    "# Generate code using the prompt\n",
    "def generate_code(prompt):\n",
    "    # print(prompt)\n",
    "    # os._exit()\n",
    "    inputs = tokenizer(prompt, return_tensors=\"pt\").to(model.device)\n",
    "    outputs = model.generate(\n",
    "        inputs.input_ids,\n",
    "        max_length=1024,\n",
    "        temperature=2.5,\n",
    "        top_p=0.95,\n",
    "        do_sample=True\n",
    "    )\n",
    "    generated_text = tokenizer.decode(outputs[0], skip_special_tokens=True)\n",
    "    # print(generated_text)\n",
    "    # os._exit()\n",
    "    ret_code =  extract_code(generated_text)\n",
    "    # if ret_code\n",
    "    return ret_code.strip()\n"
   ]
  },
  {
   "cell_type": "code",
   "execution_count": 13,
   "metadata": {},
   "outputs": [],
   "source": [
    "# Test the generated code using the provided input/output.\n",
    "# This function writes the code to a temporary file and runs it as a subprocess.\n",
    "def test_generated_code(code: str, io_pair: dict) -> float:\n",
    "    # Expect io_pair to be a dictionary with keys \"inputs\" and \"outputs\"\n",
    "    inputs_list = io_pair.get(\"inputs\", [])\n",
    "    outputs_list = io_pair.get(\"outputs\", [])\n",
    "    \n",
    "    if not inputs_list or not outputs_list:\n",
    "        print(\"No input/output test cases provided.\")\n",
    "        return 0.0\n",
    "\n",
    "    passed = 0\n",
    "    total = len(inputs_list)\n",
    "    \n",
    "    for inp, expected in zip(inputs_list, outputs_list):\n",
    "        # Write the code to a temporary file.\n",
    "        with tempfile.NamedTemporaryFile(mode=\"w\", suffix=\".py\", delete=False) as tmp:\n",
    "            tmp.write(code)\n",
    "            tmp_filename = tmp.name\n",
    "        try:\n",
    "            # Run the temporary Python file with the test input.\n",
    "            result = subprocess.run(\n",
    "                [\"python\", tmp_filename],\n",
    "                input=inp,\n",
    "                text=True,\n",
    "                capture_output=True,\n",
    "                timeout=10\n",
    "            )\n",
    "            output = result.stdout.strip()\n",
    "            if output == expected.strip():\n",
    "                passed += 1\n",
    "            else:\n",
    "                print(f\"Failed: \\nInput:\\n{inp}\\nExpected:\\n{expected.strip()}\\nGot:\\n{output}\")\n",
    "        except Exception as e:\n",
    "            print(f\"Runtime Error for input:\\n{inp}\\nError: {e}\")\n",
    "        finally:\n",
    "            os.remove(tmp_filename)\n",
    "    \n",
    "    return passed / total if total > 0 else 0.0"
   ]
  },
  {
   "cell_type": "code",
   "execution_count": 14,
   "metadata": {},
   "outputs": [
    {
     "name": "stderr",
     "output_type": "stream",
     "text": [
      "The attention mask and the pad token id were not set. As a consequence, you may observe unexpected behavior. Please pass your input's `attention_mask` to obtain reliable results.\n",
      "Setting `pad_token_id` to `eos_token_id`:128001 for open-end generation.\n"
     ]
    },
    {
     "name": "stdout",
     "output_type": "stream",
     "text": [
      "Input/Output test case:\n",
      "\n",
      "Please generate a complete Python script that solves the following problem. Enclose your final code within ```python and ``` markers. Also, ensure that your entire output (including this prompt) does not exceed 1024 tokens.\n",
      "\n",
      "Problem Description:\n",
      "Polycarp analyzes the prices of the new berPhone. At his disposal are the prices for $n$ last days: $a_1, a_2, \\dots, a_n$, where $a_i$ is the price of berPhone on the day $i$.\n",
      "\n",
      "Polycarp considers the price on the day $i$ to be bad if later (that is, a day with a greater number) berPhone was sold at a lower price. For example, if $n=6$ and $a=[3, 9, 4, 6, 7, 5]$, then the number of days with a bad price is $3$ — these are days $2$ ($a_2=9$), $4$ ($a_4=6$) and $5$ ($a_5=7$).\n",
      "\n",
      "Print the number of days with a bad price.\n",
      "\n",
      "You have to answer $t$ independent data sets.\n",
      "\n",
      "\n",
      "-----Input-----\n",
      "\n",
      "The first line contains an integer $t$ ($1 \\le t \\le 10000$) — the number of sets of input data in the test. Input data sets must be processed independently, one after another.\n",
      "\n",
      "Each input data set consists of two lines. The first line contains an integer $n$ ($1 \\le n \\le 150000$) — the number of days. The second line contains $n$ integers $a_1, a_2, \\dots, a_n$ ($1 \\le a_i \\le 10^6$), where $a_i$ is the price on the $i$-th day.\n",
      "\n",
      "It is guaranteed that the sum of $n$ over all data sets in the test does not exceed $150000$.\n",
      "\n",
      "\n",
      "-----Output-----\n",
      "\n",
      "Print $t$ integers, the $j$-th of which should be equal to the number of days with a bad price in the $j$-th input data set.\n",
      "\n",
      "\n",
      "-----Example-----\n",
      "Input\n",
      "5\n",
      "6\n",
      "3 9 4 6 7 5\n",
      "1\n",
      "1000000\n",
      "2\n",
      "2 1\n",
      "10\n",
      "31 41 59 26 53 58 97 93 23 84\n",
      "7\n",
      "3 2 1 2 3 4 5\n",
      "\n",
      "Output\n",
      "3\n",
      "0\n",
      "1\n",
      "8\n",
      "2\n",
      "\n",
      "Generated Code:\n",
      "\n",
      "\n",
      "=== Sample 1 ===\n"
     ]
    },
    {
     "ename": "AttributeError",
     "evalue": "'bool' object has no attribute 'strip'",
     "output_type": "error",
     "traceback": [
      "\u001b[0;31m---------------------------------------------------------------------------\u001b[0m",
      "\u001b[0;31mAttributeError\u001b[0m                            Traceback (most recent call last)",
      "Cell \u001b[0;32mIn[14], line 18\u001b[0m\n\u001b[1;32m     16\u001b[0m \u001b[38;5;28;01mfor\u001b[39;00m i \u001b[38;5;129;01min\u001b[39;00m \u001b[38;5;28mrange\u001b[39m(\u001b[38;5;241m10\u001b[39m):\n\u001b[1;32m     17\u001b[0m     \u001b[38;5;28mprint\u001b[39m(\u001b[38;5;124mf\u001b[39m\u001b[38;5;124m\"\u001b[39m\u001b[38;5;130;01m\\n\u001b[39;00m\u001b[38;5;124m=== Sample \u001b[39m\u001b[38;5;132;01m{\u001b[39;00mi\u001b[38;5;241m+\u001b[39m\u001b[38;5;241m1\u001b[39m\u001b[38;5;132;01m}\u001b[39;00m\u001b[38;5;124m ===\u001b[39m\u001b[38;5;124m\"\u001b[39m)\n\u001b[0;32m---> 18\u001b[0m     code \u001b[38;5;241m=\u001b[39m \u001b[43mgenerate_code\u001b[49m\u001b[43m(\u001b[49m\u001b[43mprompt\u001b[49m\u001b[43m)\u001b[49m\n\u001b[1;32m     19\u001b[0m     \u001b[38;5;28mprint\u001b[39m(\u001b[38;5;124m\"\u001b[39m\u001b[38;5;124mGenerated Code:\u001b[39m\u001b[38;5;130;01m\\n\u001b[39;00m\u001b[38;5;124m\"\u001b[39m, code, \u001b[38;5;124m\"\u001b[39m\u001b[38;5;130;01m\\n\u001b[39;00m\u001b[38;5;124m\"\u001b[39m)\n\u001b[1;32m     20\u001b[0m     \u001b[38;5;28;01mif\u001b[39;00m code:\n",
      "Cell \u001b[0;32mIn[12], line 27\u001b[0m, in \u001b[0;36mgenerate_code\u001b[0;34m(prompt)\u001b[0m\n\u001b[1;32m     24\u001b[0m generated_text \u001b[38;5;241m=\u001b[39m tokenizer\u001b[38;5;241m.\u001b[39mdecode(outputs[\u001b[38;5;241m0\u001b[39m], skip_special_tokens\u001b[38;5;241m=\u001b[39m\u001b[38;5;28;01mTrue\u001b[39;00m)\n\u001b[1;32m     25\u001b[0m \u001b[38;5;66;03m# print(generated_text)\u001b[39;00m\n\u001b[1;32m     26\u001b[0m \u001b[38;5;66;03m# os._exit()\u001b[39;00m\n\u001b[0;32m---> 27\u001b[0m \u001b[38;5;28;01mreturn\u001b[39;00m \u001b[43mextract_code\u001b[49m\u001b[43m(\u001b[49m\u001b[43mgenerated_text\u001b[49m\u001b[43m)\u001b[49m\u001b[38;5;241;43m.\u001b[39;49m\u001b[43mstrip\u001b[49m()\n",
      "\u001b[0;31mAttributeError\u001b[0m: 'bool' object has no attribute 'strip'"
     ]
    }
   ],
   "source": [
    "# Pick one problem (e.g., problem index 5) from the filtered introductory dataset.\n",
    "problem = intro_train_dataset[5]\n",
    "# Get the input/output test cases (this record stores them as a dict with \"inputs\" and \"outputs\")\n",
    "io_pair = eval(problem[\"input_output\"])\n",
    "\n",
    "# For debugging, print the test case structure.\n",
    "print(\"Input/Output test case:\")\n",
    "# print(io_pair)\n",
    "\n",
    "prompt = build_prompt(problem)\n",
    "print(prompt)\n",
    "\n",
    "results = []\n",
    "\n",
    "# Sample the answer 10 times for the same problem.\n",
    "for i in range(10):\n",
    "    print(f\"\\n=== Sample {i+1} ===\")\n",
    "    code = generate_code(prompt)\n",
    "    print(\"Generated Code:\\n\", code, \"\\n\")\n",
    "    if code:\n",
    "        score = test_generated_code(code, io_pair)\n",
    "        results.append({\"code\": code, \"success_ratio\": score})\n",
    "        print(f\"Pass Rate: {score:.2f}\")\n",
    "    else:\n",
    "        print(\"Failed to extract valid code.\")\n",
    "        results.append({\"code\": None, \"success_ratio\": -1})\n",
    "    print(\"=\" * 50)\n",
    "\n",
    "# Optionally, print out all success ratios.\n",
    "s_values = [result[\"success_ratio\"] for result in results]\n",
    "print(\"Success Ratios:\", s_values)"
   ]
  }
 ],
 "metadata": {
  "kernelspec": {
   "display_name": "ykwang_llama",
   "language": "python",
   "name": "python3"
  },
  "language_info": {
   "codemirror_mode": {
    "name": "ipython",
    "version": 3
   },
   "file_extension": ".py",
   "mimetype": "text/x-python",
   "name": "python",
   "nbconvert_exporter": "python",
   "pygments_lexer": "ipython3",
   "version": "3.10.0"
  }
 },
 "nbformat": 4,
 "nbformat_minor": 2
}
